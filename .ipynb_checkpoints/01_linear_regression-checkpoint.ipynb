{
 "cells": [
  {
   "cell_type": "code",
   "execution_count": 1,
   "metadata": {},
   "outputs": [
    {
     "name": "stderr",
     "output_type": "stream",
     "text": [
      "Using TensorFlow backend.\n"
     ]
    }
   ],
   "source": [
    "from keras.models import Sequential\n",
    "from keras.layers import Dense\n",
    "import numpy as np\n",
    "import matplotlib.pyplot as plt\n",
    "%matplotlib inline"
   ]
  },
  {
   "cell_type": "code",
   "execution_count": 10,
   "metadata": {
    "collapsed": true
   },
   "outputs": [],
   "source": [
    "# Generate dataset\n",
    "trX = np.linspace(-1, 1, 101)\n",
    "trY = 2 * trX + np.random.randn(*trX.shape) * 0.33 # create a y value which is approximately linear but with some random noise"
   ]
  },
  {
   "cell_type": "code",
   "execution_count": 11,
   "metadata": {},
   "outputs": [],
   "source": [
    "# Linear regression model\n",
    "model = Sequential()\n",
    "model.add(Dense(activation='linear', kernel_initializer='uniform', input_dim=1, units=1))\n",
    "model.compile(optimizer='sgd', loss='mse')"
   ]
  },
  {
   "cell_type": "code",
   "execution_count": 12,
   "metadata": {},
   "outputs": [
    {
     "name": "stdout",
     "output_type": "stream",
     "text": [
      "Linear regression model is initialized with weight w: -0.04, b: 0.00\n"
     ]
    }
   ],
   "source": [
    "# Print initial weights\n",
    "weights = model.layers[0].get_weights()\n",
    "w_init = weights[0][0][0]\n",
    "b_init = weights[1][0]\n",
    "print('Linear regression model is initialized with weight w: %.2f, b: %.2f' % (w_init, b_init))"
   ]
  },
  {
   "cell_type": "code",
   "execution_count": 19,
   "metadata": {},
   "outputs": [
    {
     "name": "stdout",
     "output_type": "stream",
     "text": [
      "Epoch 1/100\n",
      "101/101 [==============================] - 0s 728us/step - loss: 1.6472\n",
      "Epoch 2/100\n",
      " 32/101 [========>.....................] - ETA: 0s - loss: 1.3579"
     ]
    },
    {
     "name": "stderr",
     "output_type": "stream",
     "text": [
      "/Users/ytyang/anaconda/envs/tensorflow/lib/python3.5/site-packages/keras/models.py:981: UserWarning: The `nb_epoch` argument in `fit` has been renamed `epochs`.\n",
      "  warnings.warn('The `nb_epoch` argument in `fit` '\n"
     ]
    },
    {
     "name": "stdout",
     "output_type": "stream",
     "text": [
      "101/101 [==============================] - 0s 83us/step - loss: 1.5698\n",
      "Epoch 3/100\n",
      "101/101 [==============================] - 0s 86us/step - loss: 1.4886\n",
      "Epoch 4/100\n",
      "101/101 [==============================] - 0s 102us/step - loss: 1.4137\n",
      "Epoch 5/100\n",
      "101/101 [==============================] - 0s 100us/step - loss: 1.3499\n",
      "Epoch 6/100\n",
      "101/101 [==============================] - 0s 77us/step - loss: 1.2778\n",
      "Epoch 7/100\n",
      "101/101 [==============================] - 0s 149us/step - loss: 1.2110\n",
      "Epoch 8/100\n",
      "101/101 [==============================] - 0s 95us/step - loss: 1.1562\n",
      "Epoch 9/100\n",
      "101/101 [==============================] - 0s 82us/step - loss: 1.1045\n",
      "Epoch 10/100\n",
      "101/101 [==============================] - 0s 212us/step - loss: 1.0572\n",
      "Epoch 11/100\n",
      "101/101 [==============================] - 0s 111us/step - loss: 1.0057\n",
      "Epoch 12/100\n",
      "101/101 [==============================] - 0s 240us/step - loss: 0.9571\n",
      "Epoch 13/100\n",
      "101/101 [==============================] - 0s 157us/step - loss: 0.9161\n",
      "Epoch 14/100\n",
      "101/101 [==============================] - 0s 91us/step - loss: 0.8746\n",
      "Epoch 15/100\n",
      "101/101 [==============================] - 0s 111us/step - loss: 0.8397\n",
      "Epoch 16/100\n",
      "101/101 [==============================] - 0s 236us/step - loss: 0.8064\n",
      "Epoch 17/100\n",
      "101/101 [==============================] - 0s 92us/step - loss: 0.7652\n",
      "Epoch 18/100\n",
      "101/101 [==============================] - 0s 196us/step - loss: 0.7260\n",
      "Epoch 19/100\n",
      "101/101 [==============================] - 0s 68us/step - loss: 0.6962\n",
      "Epoch 20/100\n",
      "101/101 [==============================] - 0s 132us/step - loss: 0.6641\n",
      "Epoch 21/100\n",
      "101/101 [==============================] - 0s 155us/step - loss: 0.6319\n",
      "Epoch 22/100\n",
      "101/101 [==============================] - 0s 72us/step - loss: 0.6003\n",
      "Epoch 23/100\n",
      "101/101 [==============================] - 0s 75us/step - loss: 0.5695\n",
      "Epoch 24/100\n",
      "101/101 [==============================] - 0s 95us/step - loss: 0.5419\n",
      "Epoch 25/100\n",
      "101/101 [==============================] - 0s 64us/step - loss: 0.5192\n",
      "Epoch 26/100\n",
      "101/101 [==============================] - 0s 141us/step - loss: 0.4973\n",
      "Epoch 27/100\n",
      "101/101 [==============================] - 0s 74us/step - loss: 0.4760\n",
      "Epoch 28/100\n",
      "101/101 [==============================] - 0s 118us/step - loss: 0.4565\n",
      "Epoch 29/100\n",
      "101/101 [==============================] - 0s 63us/step - loss: 0.4323\n",
      "Epoch 30/100\n",
      "101/101 [==============================] - 0s 78us/step - loss: 0.4143\n",
      "Epoch 31/100\n",
      "101/101 [==============================] - 0s 88us/step - loss: 0.3995\n",
      "Epoch 32/100\n",
      "101/101 [==============================] - 0s 77us/step - loss: 0.3821\n",
      "Epoch 33/100\n",
      "101/101 [==============================] - 0s 93us/step - loss: 0.3668\n",
      "Epoch 34/100\n",
      "101/101 [==============================] - 0s 63us/step - loss: 0.3524\n",
      "Epoch 35/100\n",
      "101/101 [==============================] - 0s 97us/step - loss: 0.3394\n",
      "Epoch 36/100\n",
      "101/101 [==============================] - 0s 99us/step - loss: 0.3266\n",
      "Epoch 37/100\n",
      "101/101 [==============================] - 0s 111us/step - loss: 0.3116\n",
      "Epoch 38/100\n",
      "101/101 [==============================] - 0s 74us/step - loss: 0.3004\n",
      "Epoch 39/100\n",
      "101/101 [==============================] - 0s 64us/step - loss: 0.2902\n",
      "Epoch 40/100\n",
      "101/101 [==============================] - 0s 80us/step - loss: 0.2808\n",
      "Epoch 41/100\n",
      "101/101 [==============================] - 0s 78us/step - loss: 0.2719\n",
      "Epoch 42/100\n",
      "101/101 [==============================] - 0s 146us/step - loss: 0.2624\n",
      "Epoch 43/100\n",
      "101/101 [==============================] - 0s 75us/step - loss: 0.2542\n",
      "Epoch 44/100\n",
      "101/101 [==============================] - 0s 104us/step - loss: 0.2453\n",
      "Epoch 45/100\n",
      "101/101 [==============================] - 0s 68us/step - loss: 0.2363\n",
      "Epoch 46/100\n",
      "101/101 [==============================] - 0s 66us/step - loss: 0.2295\n",
      "Epoch 47/100\n",
      "101/101 [==============================] - 0s 66us/step - loss: 0.2234\n",
      "Epoch 48/100\n",
      "101/101 [==============================] - 0s 75us/step - loss: 0.2148\n",
      "Epoch 49/100\n",
      "101/101 [==============================] - 0s 75us/step - loss: 0.2081\n",
      "Epoch 50/100\n",
      "101/101 [==============================] - 0s 83us/step - loss: 0.2004\n",
      "Epoch 51/100\n",
      "101/101 [==============================] - 0s 101us/step - loss: 0.1942\n",
      "Epoch 52/100\n",
      "101/101 [==============================] - 0s 83us/step - loss: 0.1902\n",
      "Epoch 53/100\n",
      "101/101 [==============================] - 0s 84us/step - loss: 0.1855\n",
      "Epoch 54/100\n",
      "101/101 [==============================] - 0s 73us/step - loss: 0.1803\n",
      "Epoch 55/100\n",
      "101/101 [==============================] - 0s 66us/step - loss: 0.1761\n",
      "Epoch 56/100\n",
      "101/101 [==============================] - 0s 65us/step - loss: 0.1713\n",
      "Epoch 57/100\n",
      "101/101 [==============================] - 0s 74us/step - loss: 0.1675\n",
      "Epoch 58/100\n",
      "101/101 [==============================] - 0s 72us/step - loss: 0.1640\n",
      "Epoch 59/100\n",
      "101/101 [==============================] - 0s 156us/step - loss: 0.1610\n",
      "Epoch 60/100\n",
      "101/101 [==============================] - 0s 128us/step - loss: 0.1563\n",
      "Epoch 61/100\n",
      "101/101 [==============================] - 0s 68us/step - loss: 0.1518\n",
      "Epoch 62/100\n",
      "101/101 [==============================] - 0s 62us/step - loss: 0.1488\n",
      "Epoch 63/100\n",
      "101/101 [==============================] - 0s 71us/step - loss: 0.1451\n",
      "Epoch 64/100\n",
      "101/101 [==============================] - 0s 55us/step - loss: 0.1421\n",
      "Epoch 65/100\n",
      "101/101 [==============================] - 0s 73us/step - loss: 0.1395\n",
      "Epoch 66/100\n",
      "101/101 [==============================] - 0s 109us/step - loss: 0.1375\n",
      "Epoch 67/100\n",
      "101/101 [==============================] - 0s 142us/step - loss: 0.1352\n",
      "Epoch 68/100\n",
      "101/101 [==============================] - 0s 64us/step - loss: 0.1329\n",
      "Epoch 69/100\n",
      "101/101 [==============================] - 0s 145us/step - loss: 0.1306\n",
      "Epoch 70/100\n",
      "101/101 [==============================] - 0s 64us/step - loss: 0.1286\n",
      "Epoch 71/100\n",
      "101/101 [==============================] - 0s 68us/step - loss: 0.1262\n",
      "Epoch 72/100\n",
      "101/101 [==============================] - 0s 67us/step - loss: 0.1241\n",
      "Epoch 73/100\n",
      "101/101 [==============================] - 0s 62us/step - loss: 0.1223\n",
      "Epoch 74/100\n",
      "101/101 [==============================] - 0s 69us/step - loss: 0.1211\n",
      "Epoch 75/100\n",
      "101/101 [==============================] - 0s 97us/step - loss: 0.1196\n",
      "Epoch 76/100\n",
      "101/101 [==============================] - 0s 151us/step - loss: 0.1181\n",
      "Epoch 77/100\n",
      "101/101 [==============================] - 0s 73us/step - loss: 0.1171\n",
      "Epoch 78/100\n",
      "101/101 [==============================] - 0s 65us/step - loss: 0.1161\n",
      "Epoch 79/100\n",
      "101/101 [==============================] - 0s 99us/step - loss: 0.1151\n",
      "Epoch 80/100\n",
      "101/101 [==============================] - 0s 83us/step - loss: 0.1140\n",
      "Epoch 81/100\n",
      "101/101 [==============================] - 0s 112us/step - loss: 0.1131\n",
      "Epoch 82/100\n",
      "101/101 [==============================] - 0s 80us/step - loss: 0.1121\n",
      "Epoch 83/100\n",
      "101/101 [==============================] - 0s 74us/step - loss: 0.1113\n",
      "Epoch 84/100\n",
      "101/101 [==============================] - 0s 97us/step - loss: 0.1105\n",
      "Epoch 85/100\n",
      "101/101 [==============================] - 0s 122us/step - loss: 0.1094\n",
      "Epoch 86/100\n",
      "101/101 [==============================] - 0s 92us/step - loss: 0.1084\n",
      "Epoch 87/100\n",
      "101/101 [==============================] - 0s 84us/step - loss: 0.1078\n",
      "Epoch 88/100\n",
      "101/101 [==============================] - 0s 84us/step - loss: 0.1074\n",
      "Epoch 89/100\n",
      "101/101 [==============================] - 0s 87us/step - loss: 0.1067\n",
      "Epoch 90/100\n",
      "101/101 [==============================] - 0s 93us/step - loss: 0.1060\n",
      "Epoch 91/100\n",
      "101/101 [==============================] - 0s 138us/step - loss: 0.1054\n",
      "Epoch 92/100\n",
      "101/101 [==============================] - 0s 143us/step - loss: 0.1048\n",
      "Epoch 93/100\n",
      "101/101 [==============================] - 0s 85us/step - loss: 0.1039\n",
      "Epoch 94/100\n",
      "101/101 [==============================] - 0s 87us/step - loss: 0.1034\n",
      "Epoch 95/100\n",
      "101/101 [==============================] - 0s 90us/step - loss: 0.1028\n",
      "Epoch 96/100\n",
      "101/101 [==============================] - 0s 76us/step - loss: 0.1023\n",
      "Epoch 97/100\n",
      "101/101 [==============================] - 0s 78us/step - loss: 0.1020\n",
      "Epoch 98/100\n",
      "101/101 [==============================] - 0s 104us/step - loss: 0.1017\n",
      "Epoch 99/100\n"
     ]
    },
    {
     "name": "stdout",
     "output_type": "stream",
     "text": [
      "101/101 [==============================] - 0s 90us/step - loss: 0.1016\n",
      "Epoch 100/100\n",
      "101/101 [==============================] - 0s 90us/step - loss: 0.1012\n"
     ]
    },
    {
     "data": {
      "text/plain": [
       "<keras.callbacks.History at 0x126dfba58>"
      ]
     },
     "execution_count": 19,
     "metadata": {},
     "output_type": "execute_result"
    }
   ],
   "source": [
    "# Train\n",
    "model.fit(trX, trY, nb_epoch=100, verbose=1)"
   ]
  },
  {
   "cell_type": "code",
   "execution_count": 20,
   "metadata": {},
   "outputs": [
    {
     "name": "stdout",
     "output_type": "stream",
     "text": [
      "Linear regression model is trained with weight w: 1.97, b: 0.02\n"
     ]
    }
   ],
   "source": [
    "# Print trained weights\n",
    "weights = model.layers[0].get_weights()\n",
    "w = weights[0][0][0]\n",
    "b = weights[1][0]\n",
    "print('Linear regression model is trained with weight w: %.2f, b: %.2f' % (w, b))"
   ]
  },
  {
   "cell_type": "code",
   "execution_count": 22,
   "metadata": {},
   "outputs": [
    {
     "data": {
      "image/png": "[encoded data removed]",
      "text/plain": [
       "<matplotlib.figure.Figure at 0x1239d4c88>"
      ]
     },
     "metadata": {},
     "output_type": "display_data"
    }
   ],
   "source": [
    "plt.plot(trX, trY, label='data')\n",
    "plt.plot(trX, w_init*trX + b_init, label='init')\n",
    "plt.plot(trX, w*trX + b, label='prediction')\n",
    "plt.legend()\n",
    "plt.show()"
   ]
  },
  {
   "cell_type": "code",
   "execution_count": null,
   "metadata": {
    "collapsed": true
   },
   "outputs": [],
   "source": []
  },
  {
   "cell_type": "code",
   "execution_count": null,
   "metadata": {
    "collapsed": true
   },
   "outputs": [],
   "source": []
  },
  {
   "cell_type": "code",
   "execution_count": null,
   "metadata": {
    "collapsed": true
   },
   "outputs": [],
   "source": []
  }
 ],
 "metadata": {
  "kernelspec": {
   "display_name": "Python 3",
   "language": "python",
   "name": "python3"
  },
  "language_info": {
   "codemirror_mode": {
    "name": "ipython",
    "version": 3
   },
   "file_extension": ".py",
   "mimetype": "text/x-python",
   "name": "python",
   "nbconvert_exporter": "python",
   "pygments_lexer": "ipython3",
   "version": "3.5.4"
  }
 },
 "nbformat": 4,
 "nbformat_minor": 1
}
