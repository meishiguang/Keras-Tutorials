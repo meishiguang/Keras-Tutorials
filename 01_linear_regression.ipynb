{
 "cells": [
  {
   "cell_type": "code",
   "execution_count": 2,
   "metadata": {},
   "outputs": [
    {
     "name": "stderr",
     "output_type": "stream",
     "text": [
      "Using TensorFlow backend.\n"
     ]
    }
   ],
   "source": [
    "from keras.models import Sequential\n",
    "from keras.layers import Dense\n",
    "import numpy as np\n",
    "import matplotlib.pyplot as plt\n",
    "%matplotlib inline"
   ]
  },
  {
   "cell_type": "code",
   "execution_count": 3,
   "metadata": {
    "collapsed": true
   },
   "outputs": [],
   "source": [
    "# Generate dataset\n",
    "trX = np.linspace(-1, 1, 101)\n",
    "trY = 2 * trX + np.random.randn(*trX.shape) * 0.33 # create a y value which is approximately linear but with some random noise"
   ]
  },
  {
   "cell_type": "code",
   "execution_count": 4,
   "metadata": {
    "collapsed": true
   },
   "outputs": [],
   "source": [
    "# Linear regression model\n",
    "model = Sequential()\n",
    "model.add(Dense(activation='linear', kernel_initializer='uniform', input_dim=1, units=1))\n",
    "model.compile(optimizer='sgd', loss='mse')"
   ]
  },
  {
   "cell_type": "code",
   "execution_count": 5,
   "metadata": {},
   "outputs": [
    {
     "name": "stdout",
     "output_type": "stream",
     "text": [
      "Linear regression model is initialized with weight w: 0.04, b: 0.00\n"
     ]
    }
   ],
   "source": [
    "# Print initial weights\n",
    "weights = model.layers[0].get_weights()\n",
    "w_init = weights[0][0][0]\n",
    "b_init = weights[1][0]\n",
    "print('Linear regression model is initialized with weight w: %.2f, b: %.2f' % (w_init, b_init))"
   ]
  },
  {
   "cell_type": "code",
   "execution_count": 6,
   "metadata": {},
   "outputs": [
    {
     "name": "stdout",
     "output_type": "stream",
     "text": [
      "Epoch 1/100\n",
      "101/101 [==============================] - 0s 374us/step - loss: 1.5035\n",
      "Epoch 2/100\n",
      "101/101 [==============================] - 0s 59us/step - loss: 1.4334\n",
      "Epoch 3/100\n",
      "101/101 [==============================] - 0s 57us/step - loss: 1.3493\n",
      "Epoch 4/100\n",
      "101/101 [==============================] - 0s 109us/step - loss: 1.2842\n",
      "Epoch 5/100\n",
      "101/101 [==============================] - 0s 142us/step - loss: 1.2184\n",
      "Epoch 6/100\n",
      "101/101 [==============================] - 0s 125us/step - loss: 1.1638\n",
      "Epoch 7/100\n",
      "101/101 [==============================] - 0s 224us/step - loss: 1.1150\n",
      "Epoch 8/100\n",
      "101/101 [==============================] - 0s 151us/step - loss: 1.0622\n",
      "Epoch 9/100\n",
      "101/101 [==============================] - 0s 184us/step - loss: 1.0125\n",
      "Epoch 10/100\n",
      "101/101 [==============================] - 0s 163us/step - loss: 0.9648\n",
      "Epoch 11/100\n",
      "101/101 [==============================] - 0s 169us/step - loss: 0.9130\n",
      "Epoch 12/100\n",
      "101/101 [==============================] - 0s 117us/step - loss: 0.8646\n",
      "Epoch 13/100\n",
      "101/101 [==============================] - 0s 139us/step - loss: 0.8258\n",
      "Epoch 14/100\n",
      "101/101 [==============================] - 0s 152us/step - loss: 0.7889\n",
      "Epoch 15/100\n",
      "101/101 [==============================] - 0s 152us/step - loss: 0.7538\n",
      "Epoch 16/100\n",
      "101/101 [==============================] - 0s 68us/step - loss: 0.7215\n",
      "Epoch 17/100\n",
      "101/101 [==============================] - 0s 132us/step - loss: 0.6894\n",
      "Epoch 18/100\n",
      "101/101 [==============================] - 0s 94us/step - loss: 0.6600\n",
      "Epoch 19/100\n",
      "101/101 [==============================] - 0s 60us/step - loss: 0.6301\n",
      "Epoch 20/100\n",
      "101/101 [==============================] - 0s 143us/step - loss: 0.6021\n",
      "Epoch 21/100\n",
      "101/101 [==============================] - 0s 118us/step - loss: 0.5762\n",
      "Epoch 22/100\n",
      "101/101 [==============================] - 0s 122us/step - loss: 0.5490\n",
      "Epoch 23/100\n",
      "101/101 [==============================] - 0s 100us/step - loss: 0.5246\n",
      "Epoch 24/100\n",
      "101/101 [==============================] - 0s 145us/step - loss: 0.5048\n",
      "Epoch 25/100\n",
      "101/101 [==============================] - 0s 73us/step - loss: 0.4818\n",
      "Epoch 26/100\n",
      "101/101 [==============================] - 0s 156us/step - loss: 0.4604\n",
      "Epoch 27/100\n",
      "101/101 [==============================] - 0s 142us/step - loss: 0.4424\n",
      "Epoch 28/100\n",
      "101/101 [==============================] - 0s 75us/step - loss: 0.4260\n",
      "Epoch 29/100\n",
      "101/101 [==============================] - 0s 141us/step - loss: 0.4092\n",
      "Epoch 30/100\n",
      "101/101 [==============================] - 0s 115us/step - loss: 0.3938\n",
      "Epoch 31/100\n",
      "101/101 [==============================] - 0s 73us/step - loss: 0.3787\n",
      "Epoch 32/100\n",
      "101/101 [==============================] - 0s 150us/step - loss: 0.3676\n",
      "Epoch 33/100\n",
      "101/101 [==============================] - 0s 85us/step - loss: 0.3546\n",
      "Epoch 34/100\n",
      "101/101 [==============================] - 0s 178us/step - loss: 0.3413\n",
      "Epoch 35/100\n",
      "101/101 [==============================] - 0s 78us/step - loss: 0.3294\n",
      "Epoch 36/100\n",
      "101/101 [==============================] - 0s 73us/step - loss: 0.3182\n",
      "Epoch 37/100\n",
      "101/101 [==============================] - 0s 151us/step - loss: 0.3071\n",
      "Epoch 38/100\n",
      "101/101 [==============================] - 0s 79us/step - loss: 0.2967\n",
      "Epoch 39/100\n",
      "101/101 [==============================] - 0s 194us/step - loss: 0.2856\n",
      "Epoch 40/100\n",
      "101/101 [==============================] - 0s 79us/step - loss: 0.2771\n",
      "Epoch 41/100\n",
      "101/101 [==============================] - 0s 72us/step - loss: 0.2683\n",
      "Epoch 42/100\n",
      "101/101 [==============================] - 0s 141us/step - loss: 0.2602\n",
      "Epoch 43/100\n",
      "101/101 [==============================] - 0s 90us/step - loss: 0.2526\n",
      "Epoch 44/100\n",
      "101/101 [==============================] - 0s 121us/step - loss: 0.2456\n",
      "Epoch 45/100\n",
      "101/101 [==============================] - 0s 92us/step - loss: 0.2372\n",
      "Epoch 46/100\n",
      "101/101 [==============================] - 0s 134us/step - loss: 0.2285\n",
      "Epoch 47/100\n",
      "101/101 [==============================] - 0s 77us/step - loss: 0.2224\n",
      "Epoch 48/100\n",
      "101/101 [==============================] - 0s 91us/step - loss: 0.2165\n",
      "Epoch 49/100\n",
      "101/101 [==============================] - 0s 69us/step - loss: 0.2102\n",
      "Epoch 50/100\n",
      "101/101 [==============================] - 0s 57us/step - loss: 0.2057\n",
      "Epoch 51/100\n",
      "101/101 [==============================] - 0s 64us/step - loss: 0.2011\n",
      "Epoch 52/100\n",
      "101/101 [==============================] - 0s 138us/step - loss: 0.1969\n",
      "Epoch 53/100\n",
      "101/101 [==============================] - 0s 63us/step - loss: 0.1907\n",
      "Epoch 54/100\n",
      "101/101 [==============================] - 0s 75us/step - loss: 0.1868\n",
      "Epoch 55/100\n",
      "101/101 [==============================] - 0s 101us/step - loss: 0.1829\n",
      "Epoch 56/100\n",
      "101/101 [==============================] - 0s 76us/step - loss: 0.1798\n",
      "Epoch 57/100\n",
      "101/101 [==============================] - 0s 64us/step - loss: 0.1762\n",
      "Epoch 58/100\n",
      "101/101 [==============================] - 0s 105us/step - loss: 0.1733\n",
      "Epoch 59/100\n",
      "101/101 [==============================] - 0s 162us/step - loss: 0.1696\n",
      "Epoch 60/100\n",
      "101/101 [==============================] - 0s 176us/step - loss: 0.1667\n",
      "Epoch 61/100\n",
      "101/101 [==============================] - 0s 86us/step - loss: 0.1636\n",
      "Epoch 62/100\n",
      "101/101 [==============================] - 0s 109us/step - loss: 0.1601\n",
      "Epoch 63/100\n",
      "101/101 [==============================] - 0s 82us/step - loss: 0.1578\n",
      "Epoch 64/100\n",
      "101/101 [==============================] - 0s 170us/step - loss: 0.1555\n",
      "Epoch 65/100\n",
      "101/101 [==============================] - 0s 143us/step - loss: 0.1535\n",
      "Epoch 66/100\n",
      "101/101 [==============================] - 0s 145us/step - loss: 0.1511\n",
      "Epoch 67/100\n",
      "101/101 [==============================] - 0s 125us/step - loss: 0.1488\n",
      "Epoch 68/100\n",
      "101/101 [==============================] - 0s 144us/step - loss: 0.1467\n",
      "Epoch 69/100\n",
      "101/101 [==============================] - 0s 131us/step - loss: 0.1450\n",
      "Epoch 70/100\n",
      "101/101 [==============================] - 0s 132us/step - loss: 0.1429\n",
      "Epoch 71/100\n",
      "101/101 [==============================] - 0s 122us/step - loss: 0.1407\n",
      "Epoch 72/100\n",
      "101/101 [==============================] - 0s 87us/step - loss: 0.1391\n",
      "Epoch 73/100\n",
      "101/101 [==============================] - ETA: 0s - loss: 0.079 - 0s 131us/step - loss: 0.1376\n",
      "Epoch 74/100\n",
      "101/101 [==============================] - 0s 187us/step - loss: 0.1367\n",
      "Epoch 75/100\n",
      "101/101 [==============================] - 0s 93us/step - loss: 0.1355\n",
      "Epoch 76/100\n",
      "101/101 [==============================] - 0s 124us/step - loss: 0.1342\n",
      "Epoch 77/100\n",
      "101/101 [==============================] - 0s 76us/step - loss: 0.1328\n",
      "Epoch 78/100\n",
      "101/101 [==============================] - 0s 97us/step - loss: 0.1319\n",
      "Epoch 79/100\n",
      "101/101 [==============================] - 0s 68us/step - loss: 0.1308\n",
      "Epoch 80/100\n",
      "101/101 [==============================] - 0s 72us/step - loss: 0.1299\n",
      "Epoch 81/100\n",
      "101/101 [==============================] - 0s 60us/step - loss: 0.1290\n",
      "Epoch 82/100\n",
      "101/101 [==============================] - 0s 60us/step - loss: 0.1285\n",
      "Epoch 83/100\n",
      "101/101 [==============================] - 0s 83us/step - loss: 0.1276\n",
      "Epoch 84/100\n",
      "101/101 [==============================] - 0s 99us/step - loss: 0.1268\n",
      "Epoch 85/100\n",
      "101/101 [==============================] - 0s 70us/step - loss: 0.1261\n",
      "Epoch 86/100\n",
      "101/101 [==============================] - 0s 112us/step - loss: 0.1253\n",
      "Epoch 87/100\n",
      "101/101 [==============================] - 0s 96us/step - loss: 0.1245\n",
      "Epoch 88/100\n",
      "101/101 [==============================] - 0s 76us/step - loss: 0.1236\n",
      "Epoch 89/100\n",
      "101/101 [==============================] - 0s 67us/step - loss: 0.1230\n",
      "Epoch 90/100\n",
      "101/101 [==============================] - 0s 77us/step - loss: 0.1223\n",
      "Epoch 91/100\n",
      "101/101 [==============================] - 0s 63us/step - loss: 0.1217\n",
      "Epoch 92/100\n",
      "101/101 [==============================] - 0s 73us/step - loss: 0.1215\n",
      "Epoch 93/100\n",
      "101/101 [==============================] - 0s 104us/step - loss: 0.1206\n",
      "Epoch 94/100\n",
      "101/101 [==============================] - 0s 74us/step - loss: 0.1199\n",
      "Epoch 95/100\n",
      "101/101 [==============================] - 0s 96us/step - loss: 0.1194\n",
      "Epoch 96/100\n",
      "101/101 [==============================] - 0s 63us/step - loss: 0.1191\n",
      "Epoch 97/100\n"
     ]
    },
    {
     "name": "stdout",
     "output_type": "stream",
     "text": [
      "101/101 [==============================] - 0s 83us/step - loss: 0.1187\n",
      "Epoch 98/100\n",
      "101/101 [==============================] - 0s 78us/step - loss: 0.1184\n",
      "Epoch 99/100\n",
      "101/101 [==============================] - 0s 60us/step - loss: 0.1177\n",
      "Epoch 100/100\n",
      "101/101 [==============================] - 0s 78us/step - loss: 0.1174\n"
     ]
    },
    {
     "data": {
      "text/plain": [
       "<keras.callbacks.History at 0x11c8dd860>"
      ]
     },
     "execution_count": 6,
     "metadata": {},
     "output_type": "execute_result"
    }
   ],
   "source": [
    "# Train\n",
    "model.fit(trX, trY, epochs=100, verbose=1)"
   ]
  },
  {
   "cell_type": "code",
   "execution_count": 7,
   "metadata": {},
   "outputs": [
    {
     "name": "stdout",
     "output_type": "stream",
     "text": [
      "Linear regression model is trained with weight w: 1.94, b: 0.07\n"
     ]
    }
   ],
   "source": [
    "# Print trained weights\n",
    "weights = model.layers[0].get_weights()\n",
    "w = weights[0][0][0]\n",
    "b = weights[1][0]\n",
    "print('Linear regression model is trained with weight w: %.2f, b: %.2f' % (w, b))"
   ]
  },
  {
   "cell_type": "code",
   "execution_count": 8,
   "metadata": {},
   "outputs": [
    {
     "data": {
      "image/png": "[encoded data removed]",
      "text/plain": [
       "<matplotlib.figure.Figure at 0x11ca69eb8>"
      ]
     },
     "metadata": {},
     "output_type": "display_data"
    }
   ],
   "source": [
    "plt.plot(trX, trY, label='data')\n",
    "plt.plot(trX, w_init*trX + b_init, label='init')\n",
    "plt.plot(trX, w*trX + b, label='prediction')\n",
    "plt.legend()\n",
    "plt.show()"
   ]
  },
  {
   "cell_type": "code",
   "execution_count": null,
   "metadata": {
    "collapsed": true
   },
   "outputs": [],
   "source": []
  },
  {
   "cell_type": "code",
   "execution_count": null,
   "metadata": {
    "collapsed": true
   },
   "outputs": [],
   "source": []
  },
  {
   "cell_type": "code",
   "execution_count": null,
   "metadata": {
    "collapsed": true
   },
   "outputs": [],
   "source": []
  }
 ],
 "metadata": {
  "kernelspec": {
   "display_name": "Python 3",
   "language": "python",
   "name": "python3"
  },
  "language_info": {
   "codemirror_mode": {
    "name": "ipython",
    "version": 3
   },
   "file_extension": ".py",
   "mimetype": "text/x-python",
   "name": "python",
   "nbconvert_exporter": "python",
   "pygments_lexer": "ipython3",
   "version": "3.5.4"
  }
 },
 "nbformat": 4,
 "nbformat_minor": 1
}
